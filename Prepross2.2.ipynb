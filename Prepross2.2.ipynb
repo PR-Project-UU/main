{
 "cells": [
  {
   "cell_type": "markdown",
   "metadata": {},
   "source": [
    "<b>Preprocessing</b>"
   ]
  },
  {
   "cell_type": "code",
   "execution_count": null,
   "metadata": {},
   "outputs": [],
   "source": [
    "import pandas as pd\n",
    "import glob\n",
    "\n",
    "# Allows for printing all columns and increases width; debug utility\n",
    "pd.set_option('display.max_columns', None)\n",
    "pd.set_option('display.width', 1000)\n",
    "\n",
    "# Select only the data files in the data folder\n",
    "#data_files = glob.glob('data/*data.csv')\n",
    "data_files = sorted(glob.glob('data/*data.csv'))\n",
    "\n",
    "# Create the dfs and merge them on the keys TIME and METROREG\n",
    "merged_data = None\n",
    "for file in data_files:\n",
    "    current_df = pd.read_csv(file, encoding=\"ISO-8859-1\")\n",
    "    if merged_data is not None:\n",
    "        merged_data = pd.merge(merged_data, current_df, on=[\"TIME\", \"METROREG\"])\n",
    "    else:\n",
    "        merged_data = current_df\n",
    "\n",
    "# Rename relevant columns and drop the useless ones\n",
    "# Though, be aware that measurement information is also lost\n",
    "renames = {'Value_x': 'employed_persons',\n",
    "           'Value_y': 'gdp',\n",
    "           'Value': 'population'}\n",
    "\n",
    "droppes = ['UNIT_x', 'WSTATUS', 'NACE_R2', 'Flag and Footnotes_x',\n",
    "           'UNIT_y', 'Flag and Footnotes_y', 'AGE', 'SEX', 'Flag and Footnotes']\n",
    "\n",
    "filtered_data = merged_data.rename(columns=renames).drop(columns=droppes)\n",
    "\n",
    "#print(filtered_data)"
   ]
  },
  {
   "cell_type": "code",
   "execution_count": null,
   "metadata": {},
   "outputs": [],
   "source": [
    "#Rows we want to remove\n",
    "non_metro=['Non-metropolitan regions in Austria',\n",
    " 'Non-metropolitan regions in Belgium',\n",
    " 'Non-metropolitan regions in Bulgaria',\n",
    " 'Non-metropolitan regions in Croatia',\n",
    " 'Non-metropolitan regions in Czech Republic',\n",
    " 'Non-metropolitan regions in Denmark',\n",
    " 'Non-metropolitan regions in Estonia',\n",
    " 'Non-metropolitan regions in Finland',\n",
    " 'Non-metropolitan regions in Germany',\n",
    " 'Non-metropolitan regions in Greece',\n",
    " 'Non-metropolitan regions in Hungary',\n",
    " 'Non-metropolitan regions in Ireland',\n",
    " 'Non-metropolitan regions in Italy',\n",
    " 'Non-metropolitan regions in Latvia',\n",
    " 'Non-metropolitan regions in Lithuania',\n",
    " 'Non-metropolitan regions in Malta',\n",
    " 'Non-metropolitan regions in Netherlands',\n",
    " 'Non-metropolitan regions in North Macedonia',\n",
    " 'Non-metropolitan regions in Portugal',\n",
    " 'Non-metropolitan regions in Romania',\n",
    " 'Non-metropolitan regions in Serbia',\n",
    " 'Non-metropolitan regions in Slovakia',\n",
    " 'Non-metropolitan regions in Slovenia',\n",
    " 'Non-metropolitan regions in Spain',\n",
    " 'Non-metropolitan regions in Sweden',\n",
    " 'Non-metropolitan regions in United Kingdom']\n",
    "countries = ['United Kingdom',\"West Midlands urban area\",\"North Macedonia\",\"Austria\",\"Belgium\",\"Bulgaria\",\"Croatia\",\"Cyprus\",\"Czechia\",\"Denmark\",\"Estonia\",\"Finland\",\"France\",\"Germany\",\"Germany (until 1990 former territory of the FRG)\",\"Greece\",\"Hungary\",\"Ireland\",\"Italy\",\"Latvia\",\"Lithuania\",\"Luxembourg\",\"Malta\",\"Netherlands\",\"Poland\",\"Portugal\",\"Romania\",\"Serbia\",\"Slovakia\",\"Slovenia\",\"Spain\",\"Sweden\"]\n",
    "countries.extend(non_metro)"
   ]
  },
  {
   "cell_type": "code",
   "execution_count": null,
   "metadata": {},
   "outputs": [],
   "source": [
    "filtered_data2=filtered_data\n",
    "for i in countries:\n",
    "    filtered_data2=filtered_data2[filtered_data2.METROREG!=i]"
   ]
  },
  {
   "cell_type": "code",
   "execution_count": null,
   "metadata": {},
   "outputs": [],
   "source": [
    "import numpy as np\n",
    "import scipy"
   ]
  },
  {
   "cell_type": "code",
   "execution_count": null,
   "metadata": {},
   "outputs": [],
   "source": [
    "# Preprocessing on the population column\n",
    "filtered_data2.population = filtered_data2.population.replace(':', np.nan) # replacing NAs (noted ':') by NaN\n",
    "filtered_data2.population = filtered_data2['population'].replace(r',', '',regex=True)  # removing commas\n",
    "filtered_data2.population = filtered_data2['population'].astype(float)  #changing column type\n",
    "\n",
    "# Preprocessing on the GDP column\n",
    "filtered_data2.gdp = filtered_data2.gdp.replace(':',np.nan )  # replacing missing values (noted ':') by NaN\n",
    "filtered_data2.gdp = filtered_data2['gdp'].replace(r',', '',regex=True)  # removing commas\n",
    "filtered_data2.gdp = filtered_data2['gdp'].astype(float)  # changing column type\n",
    "\n",
    "# Employed_persons column\n",
    "filtered_data2.employed_persons = filtered_data2.employed_persons.replace(':', np.nan)\n",
    "filtered_data2.employed_persons = filtered_data2['employed_persons'].replace(r',', '',regex=True)\n",
    "filtered_data2.employed_persons = filtered_data2['employed_persons'].astype(float)"
   ]
  },
  {
   "cell_type": "code",
   "execution_count": null,
   "metadata": {},
   "outputs": [],
   "source": [
    "filtered_data2[filtered_data2['METROREG'] == 'Bergen']"
   ]
  },
  {
   "cell_type": "code",
   "execution_count": null,
   "metadata": {},
   "outputs": [],
   "source": [
    "from scipy.optimize import curve_fit\n",
    "\n",
    "def F(x,a,b):\n",
    "    return a*x+b\n",
    "\n",
    "def nan_position(k):\n",
    "    z=np.argwhere(np.isnan(np.array(k)))\n",
    "    l=[]\n",
    "    for i in z:\n",
    "        l.append(i[0])\n",
    "    return l\n",
    "\n",
    "def treat_missing(k):\n",
    "    #cities_removed=[]\n",
    "    #if not enough values-> drop the city, threshold of 8 missing values per column\n",
    "    #if all(x <=8 for x in list(k.isnull().sum())) == True:\n",
    "        #cities_removed.append(v)\n",
    "    #employed_persons\n",
    "    missing=k.isnull().sum()\n",
    "    if missing[2] != 0: #first linear regression\n",
    "        L1=list(k.employed_persons)\n",
    "        m1=nan_position(k.employed_persons) #gets position of missing\n",
    "        X1=[i for i in range(len(list(k.employed_persons))) if str(list(k.employed_persons)[i])!='nan']\n",
    "        Y1=[i for i in list(k.employed_persons) if str(i)!='nan']\n",
    "        params1 = curve_fit(F, xdata=X1, ydata=Y1) #performs linear regression, params[0] contains a and b\n",
    "        for i in m1:\n",
    "            L1[i] = params1[0][0]*i + params1[0][1]\n",
    "        k.employed_persons = L1\n",
    "        \n",
    "    \n",
    "    if missing[3] != 0: #second linear regression\n",
    "        L2=list(k.gdp)\n",
    "        m2=nan_position(k.gdp) #gets position of missing\n",
    "        X2=[i for i in range(len(list(k.gdp))) if str(list(k.gdp)[i])!='nan']\n",
    "        Y2=[i for i in list(k.gdp) if str(i)!='nan']\n",
    "        params2 = curve_fit(F, xdata=X2, ydata=Y2) #performs linear regression, params[0] contains a and b\n",
    "        for i in m2:\n",
    "            L2[i] = params2[0][0]*i + params2[0][1]\n",
    "        k.gdp=L2 #replacing the column\n",
    "    \n",
    "    if missing[4] != 0: #third linear regression\n",
    "        L3=list(k.population)\n",
    "        m3=nan_position(k.population) #gets position of missing\n",
    "        X3=[i for i in range(len(list(k.population))) if str(list(k.population)[i])!='nan']\n",
    "        Y3=[i for i in list(k.population) if str(i)!='nan']\n",
    "        params3 = curve_fit(F, xdata=X3, ydata=Y3) #performs linear regression, params[0] contains a and b\n",
    "        for i in m3:\n",
    "            L3[i] = params3[0][0]*i + params3[0][1]\n",
    "        k.population=L3\n",
    "        print(k.population) #replacing the column\n",
    "    return"
   ]
  },
  {
   "cell_type": "code",
   "execution_count": null,
   "metadata": {},
   "outputs": [],
   "source": [
    "for v in filtered_data2['METROREG'].unique():\n",
    "    treat_missing(filtered_data2[filtered_data2['METROREG'] == v])"
   ]
  },
  {
   "cell_type": "code",
   "execution_count": null,
   "metadata": {},
   "outputs": [],
   "source": [
    "filtered_data2"
   ]
  },
  {
   "cell_type": "code",
   "execution_count": null,
   "metadata": {},
   "outputs": [],
   "source": [
    "l=2\n",
    "if 2 ==l:\n",
    "    if type(l)==type(3):\n",
    "        print('hello')"
   ]
  },
  {
   "cell_type": "code",
   "execution_count": null,
   "metadata": {},
   "outputs": [],
   "source": [
    "cities_removed=[]\n",
    "for v in filtered_data2['METROREG'].unique():\n",
    "    print(max(list(filtered_data2[filtered_data2['METROREG'] == v].isnull().sum())))\n",
    "    print(v)\n",
    "    if max(list(filtered_data2[filtered_data2['METROREG'] == v].isnull().sum()))>8:\n",
    "        print(max(list(filtered_data2[filtered_data2['METROREG'] == v].isnull().sum())))\n",
    "        print(filtered_data2[filtered_data2['METROREG'] == v])\n",
    "        cities_removed.append(v)"
   ]
  },
  {
   "cell_type": "code",
   "execution_count": null,
   "metadata": {},
   "outputs": [],
   "source": [
    "filtered_data"
   ]
  },
  {
   "cell_type": "code",
   "execution_count": null,
   "metadata": {},
   "outputs": [],
   "source": [
    "cities_removed"
   ]
  },
  {
   "cell_type": "code",
   "execution_count": null,
   "metadata": {},
   "outputs": [],
   "source": [
    "max(list(filtered_data2[filtered_data2['METROREG'] == 'Bergen'].isnull().sum()))"
   ]
  },
  {
   "cell_type": "code",
   "execution_count": null,
   "metadata": {},
   "outputs": [],
   "source": [
    "all(x >=9 for x in list(filtered_data2[filtered_data2['METROREG'] == 'Bergen'].isnull().sum()))"
   ]
  },
  {
   "cell_type": "code",
   "execution_count": null,
   "metadata": {},
   "outputs": [],
   "source": [
    "\"\"\"according to various sources gdp per capita growth is linear in european countries since 1950 \n",
    "(Real GDP per capita in developed countries, Ivan O. Kitov)\"\"\""
   ]
  },
  {
   "cell_type": "code",
   "execution_count": null,
   "metadata": {},
   "outputs": [],
   "source": [
    "filtered_data2[350:400]"
   ]
  },
  {
   "cell_type": "code",
   "execution_count": null,
   "metadata": {},
   "outputs": [],
   "source": [
    "TEST = filtered_data2[filtered_data2['METROREG'] == 'Bergen']"
   ]
  },
  {
   "cell_type": "code",
   "execution_count": null,
   "metadata": {},
   "outputs": [],
   "source": [
    "TEST.isnull().sum()"
   ]
  },
  {
   "cell_type": "code",
   "execution_count": null,
   "metadata": {},
   "outputs": [],
   "source": [
    "TEST"
   ]
  },
  {
   "cell_type": "code",
   "execution_count": null,
   "metadata": {},
   "outputs": [],
   "source": [
    "X=[i for i in list(TEST.population) if str(i)!='nan']\n",
    "Y=[i for i in range(len(list(TEST.population))) if str(list(TEST.population)[i])!='nan']"
   ]
  },
  {
   "cell_type": "code",
   "execution_count": null,
   "metadata": {},
   "outputs": [],
   "source": [
    "from matplotlib import pyplot as plt"
   ]
  },
  {
   "cell_type": "code",
   "execution_count": null,
   "metadata": {},
   "outputs": [],
   "source": [
    "plt.scatter(Y,X)"
   ]
  },
  {
   "cell_type": "code",
   "execution_count": null,
   "metadata": {},
   "outputs": [],
   "source": [
    "import math"
   ]
  },
  {
   "cell_type": "code",
   "execution_count": null,
   "metadata": {},
   "outputs": [],
   "source": [
    "from scipy.optimize import curve_fit\n",
    "def F(x,a,b):\n",
    "    return a*x+b\n",
    "\n",
    "params = curve_fit(F, xdata=Y, ydata=X)"
   ]
  },
  {
   "cell_type": "code",
   "execution_count": null,
   "metadata": {},
   "outputs": [],
   "source": [
    "params"
   ]
  },
  {
   "cell_type": "code",
   "execution_count": null,
   "metadata": {},
   "outputs": [],
   "source": [
    "from matplotlib import pyplot as plt"
   ]
  },
  {
   "cell_type": "code",
   "execution_count": null,
   "metadata": {},
   "outputs": [],
   "source": [
    "z=[i for i in range(20)]"
   ]
  },
  {
   "cell_type": "code",
   "execution_count": null,
   "metadata": {},
   "outputs": [],
   "source": [
    "plt.plot(X,Y)\n",
    "plt.plot(z,z*params[0][0]**2+params[0][1]*z+params[0][2])"
   ]
  },
  {
   "cell_type": "code",
   "execution_count": null,
   "metadata": {},
   "outputs": [],
   "source": [
    "#Code checking if there are indeed 19 instances per city\n",
    "for v in filtered_data2['METROREG'].unique():\n",
    "    print(filtered_data2[filtered_data2['METROREG'] == v])"
   ]
  },
  {
   "cell_type": "code",
   "execution_count": null,
   "metadata": {},
   "outputs": [],
   "source": [
    "[0,0,0].count(0)"
   ]
  },
  {
   "cell_type": "code",
   "execution_count": null,
   "metadata": {},
   "outputs": [],
   "source": [
    "def treat_missing(k,t): #t is a threshold for the number of zeros (mising value we allow)\n",
    "    L1 = list(k.employed_persons)\n",
    "    L2 = list(k.gdp)\n",
    "    L3 = list(k.population) \n",
    "    \n",
    "    if L1.count(0)>t,\n",
    "    "
   ]
  },
  {
   "cell_type": "code",
   "execution_count": null,
   "metadata": {
    "code_folding": []
   },
   "outputs": [],
   "source": [
    "#need to check if there are zeros in subdataframe\n",
    "def treat_missing(k):\n",
    "    #nested helper function\n",
    "    #needed because .index() doesn't retrieve position for more than one value\n",
    "    #eg: for l=[0,0,2], l.index(0) returns 0 and not (0,1)\n",
    "    def get_zeros(k):\n",
    "        z=[]\n",
    "        for i in range(len(k)):\n",
    "            if k[i]==0:\n",
    "                z.append(i)\n",
    "        return z  \n",
    "    #turns the dataframe into lists\n",
    "    L1 = list(k.employed_persons)\n",
    "    L2 = list(k.gdp)\n",
    "    L3 = list(k.population) \n",
    "    z1=get_zeros(L1)\n",
    "    z2=get_zeros(L2)\n",
    "    z3=get_zeros(L3)\n",
    "    #for missing single values at either ends \n",
    "    \n",
    "    #employed_persons\n",
    "    if len(z1) == 1 and z1[0] == 0:\n",
    "        L1[0] = L1[1] - abs(L1[1]-L1[2])\n",
    "        k.employed_persons = L1\n",
    "    if len(z1) == 1 and z1[0] == 18:\n",
    "        L1[18] = L1[17] + abs(L1[17]-L1[16])\n",
    "        k.employed_persons = L1\n",
    "    \n",
    "    #gdp\n",
    "    if len(z2) == 1 and z2[0] == 0:\n",
    "        L2[0] = L2[1] - abs(L2[1]-L2[2])\n",
    "        k.gdp = L2\n",
    "    if len(z2) == 1 and z2[0] == 18:\n",
    "        L2[18] = L2[17] + abs(L2[17]-L2[16])\n",
    "        k.gdp = L2\n",
    "    \n",
    "    #population\n",
    "    if len(z3) == 1 and z3[0] == 0:\n",
    "        L3[0] = L3[1] - abs(L3[1]-L3[2])\n",
    "        k.population = L3\n",
    "    if len(z3) == 1 and z3[0] == 18:\n",
    "        L3[18] = L3[17] + abs(L3[17]-L3[16])\n",
    "        k.population = L3\n",
    "    #For missing values at ends (more than one)\n",
    "    #nested function\n",
    "    #[0,1]->True\n",
    "    #[0,2]->False\n",
    "    def evenly_spaced(l):\n",
    "        for i in range(len(l)-1):\n",
    "            if abs(l[i]-l[i+1])!=1:\n",
    "                return False\n",
    "        return True\n",
    "\n",
    "    #employed_persons\n",
    "    if (len(z1) >1) and evenly_spaced(z1) == True and z1[0] == 0:\n",
    "        for i in reversed(z1):\n",
    "            L1[i] = L1[i+1] - abs(L1[i+1] - L1[i+2])\n",
    "        k.employed_persons = L1\n",
    "    \n",
    "    #gdp\n",
    "    if (len(z2) >1) and evenly_spaced(z2) == True and z2[0] == 0:\n",
    "        for i in reversed(z2):\n",
    "            L2[i] = L2[i+1] - abs(L2[i+1] - L2[i+2])\n",
    "        k.gdp = L2\n",
    "        \n",
    "    #population\n",
    "    if (len(z3) >1) and evenly_spaced(z3) == True and z3[0] == 0:\n",
    "        for i in reversed(z3):\n",
    "            L3[i] = L3[i+1] - abs(L3[i+1] - L3[i+2])\n",
    "        k.population = L3\n",
    "        \n",
    "    #other end \n",
    "    #employed_persons\n",
    "    if (len(z1) >1) and evenly_spaced(z1) == True and z1[-1] == 18:\n",
    "        for i in z1:\n",
    "            L1[i] = L1[i-1] + abs(L1[i-1] - L1[i-2])\n",
    "        k.employed_persons = L1\n",
    "    #gdp\n",
    "    if (len(z2) >1) and evenly_spaced(z2) == True and z2[-1] == 18:\n",
    "        for i in z2:\n",
    "            L2[i] = L2[i-1] + abs(L2[i-1] - L2[i-2])\n",
    "        k.gdp = L2\n",
    "    #population\n",
    "    if (len(z3) >1) and evenly_spaced(z3) == True and z3[-1] == 18:\n",
    "        for i in z3:\n",
    "            L3[i] = L3[i-1] + abs(L3[i-1] - L3[i-2])\n",
    "        k.population = L3\n",
    "    #If values are missing in the middle of the dataframe: -> apply what Simon showed on excel\n",
    "    #employed_persons\n",
    "    if ((len(z1) >1) and evenly_spaced(z1) == True) and (z1[-1] != 18 and z1[0] != 0):\n",
    "        p = L1[z1[0]-1] - L1[z1[-1]+1]\n",
    "        add = p/(len(z1)+1)\n",
    "        for i in z1:\n",
    "            L1[i]=L1[i-1]+add\n",
    "        k.employed_persons=L1\n",
    "    #gdp\n",
    "    if ((len(z2) >1) and evenly_spaced(z2) == True) and (z2[-1] != 18 and z2[0] != 0):\n",
    "        print(L2)\n",
    "        print(z2)\n",
    "        p = L2[z2[0]-1] - L2[z2[-1]+1]\n",
    "        add = p/(len(z2)+1)\n",
    "        for i in z2:\n",
    "            L2[i]=L2[i-1]+add\n",
    "        k.gdp=L2\n",
    "    #population\n",
    "    if ((len(z3) >1) and evenly_spaced(z3) == True) and (z3[-1] != 18 and z3[0] != 0):\n",
    "        p = L3[z3[0]-1] - L3[z3[-1]+1]\n",
    "        add = p/(len(z3)+1)\n",
    "        for i in z3:\n",
    "            L3[i]=L3[i-1]+add\n",
    "        k.population=L3\n",
    "    #more complicated cases\n",
    "    #0xxx000\n",
    "    #000xxx0\n",
    "    #000xxx000\n",
    "    #3rd helper function for \n",
    "    def get_sep(l):\n",
    "        for i in range(len(l)-1):\n",
    "            if abs(l[i]-l[i+1])!=1:\n",
    "                t=(l[i],l[i+1])\n",
    "        return t\n",
    "    #0xxx000\n",
    "    if evenly_spaced(z1) == False and len(z1)>1 and z1[0]==0:\n",
    "        L1[0] = L1[1] - abs(L1[1]-L1[2])\n",
    "        p = L1[z1[0]-1] - L1[z1[-1]+1]\n",
    "        add = p/(len(z1))\n",
    "        for i in z1[get_sep(z1)[1]:]:\n",
    "            L1[i]=L1[i-1]+add\n",
    "        k.employed_persons=L1\n",
    "    \n",
    "    #gdp\n",
    "    if evenly_spaced(z2) == False and len(z2)>1 and z1[0]==0:\n",
    "        L2[0] = L2[1] - abs(L2[1]-L2[2])\n",
    "        p = L2[z2[0]-1] - L2[z2[-1]+1]\n",
    "        add = p/(len(z2))\n",
    "        for i in z2[get_sep(z2)[1]:]:\n",
    "            L2[i]=L2[i-1]+add\n",
    "        k.gdp=L2\n",
    "    \n",
    "    #population\n",
    "    if evenly_spaced(z3) == False and len(z3)>1 and z3[0]==0:\n",
    "        L3[0] = L3[1] - abs(L3[1]-L3[2])\n",
    "        p = L3[z3[0]-1] - L3[z3[-1]+1]\n",
    "        add = p/(len(z3))\n",
    "        for i in z3[get_sep(z3)[1]:]:\n",
    "            L3[i]=L3[i-1]+add\n",
    "        k.population=L3\n",
    "    \n",
    "    #000xxx0\n",
    "    if evenly_spaced(z1) == False and len(z1)>1 and z1[-1]==18:\n",
    "        L1[18] = L1[17] + abs(L1[17]-L1[16])\n",
    "        p = L1[z1[0]-1] - L1[z1[-1]+1]\n",
    "        add = p/(len(z1))\n",
    "        for i in z1[:get_sep(z1)[1]]:\n",
    "            L1[i]=L1[i-1]+add\n",
    "        k.employed_persons=L1\n",
    "    \n",
    "    #gdp\n",
    "    if evenly_spaced(z2) == False and len(z2)>1 and z1[-1]==18:\n",
    "        L2[0] = L2[1] - abs(L2[1]-L2[2])\n",
    "        p = L2[z2[0]-1] - L2[z2[-1]+1]\n",
    "        add = p/(len(z2))\n",
    "        for i in z2[get_sep(z2)[1]:]:\n",
    "            L2[i]=L2[i-1]+add\n",
    "        k.gdp=L2\n",
    "    \n",
    "    #population\n",
    "    if evenly_spaced(z3) == False and len(z3)>1 and z3[-1]==18:\n",
    "        L3[0] = L3[1] - abs(L3[1]-L3[2])\n",
    "        p = L3[z3[0]-1] - L3[z3[-1]+1]\n",
    "        add = p/(len(z3))\n",
    "        for i in z3[get_sep(z3)[1]:]:\n",
    "            L3[i]=L3[i-1]+add\n",
    "        k.population=L3\n",
    "    \n",
    "    \n",
    "        \n",
    "        \n",
    "        \n",
    "        \n",
    "        \n",
    "                \n",
    "        \n",
    "        \n",
    "    \n",
    "    return"
   ]
  },
  {
   "cell_type": "code",
   "execution_count": null,
   "metadata": {},
   "outputs": [],
   "source": [
    "get_sep([1,2,4])[0]"
   ]
  },
  {
   "cell_type": "code",
   "execution_count": null,
   "metadata": {},
   "outputs": [],
   "source": [
    "def get_sep(l):\n",
    "    for i in range(len(l)-1):\n",
    "        if abs(l[i]-l[i+1])!=1:\n",
    "            t=(l[i],l[i+1])\n",
    "    return t"
   ]
  },
  {
   "cell_type": "code",
   "execution_count": null,
   "metadata": {},
   "outputs": [],
   "source": []
  },
  {
   "cell_type": "code",
   "execution_count": null,
   "metadata": {
    "scrolled": true
   },
   "outputs": [],
   "source": [
    " Yo=filtered_data2[filtered_data2['METROREG'] == 'Bergen']"
   ]
  },
  {
   "cell_type": "code",
   "execution_count": null,
   "metadata": {},
   "outputs": [],
   "source": [
    "treat_missing(Yo)"
   ]
  },
  {
   "cell_type": "code",
   "execution_count": null,
   "metadata": {},
   "outputs": [],
   "source": [
    "Yo"
   ]
  },
  {
   "cell_type": "code",
   "execution_count": null,
   "metadata": {
    "scrolled": true
   },
   "outputs": [],
   "source": [
    "for v in filtered_data2['METROREG'].unique():\n",
    "    treat_missing(filtered_data2[filtered_data2['METROREG'] == v])"
   ]
  },
  {
   "cell_type": "code",
   "execution_count": null,
   "metadata": {},
   "outputs": [],
   "source": [
    "filtered_data2[20:]"
   ]
  },
  {
   "cell_type": "code",
   "execution_count": null,
   "metadata": {},
   "outputs": [],
   "source": [
    "filtered_data3 = filtered_data2[(filtered_data2['TIME']>=2000) & (filtered_data2['population']>500000) & (filtered_data2['gdp']>40000)]"
   ]
  },
  {
   "cell_type": "code",
   "execution_count": null,
   "metadata": {},
   "outputs": [],
   "source": [
    "filtered_data3 = filtered_data3[filtered_data3['METROREG'].apply(lambda x: len(x) < 27)]"
   ]
  },
  {
   "cell_type": "code",
   "execution_count": null,
   "metadata": {},
   "outputs": [],
   "source": [
    "import geopy\n",
    "from geopy.geocoders import Nominatim"
   ]
  },
  {
   "cell_type": "code",
   "execution_count": null,
   "metadata": {},
   "outputs": [],
   "source": [
    "geolocator = Nominatim(user_agent=\"Master-Student\")\n",
    "def get_coord(k):\n",
    "    assert type(k)==str\n",
    "    return (geolocator.geocode(k).latitude,geolocator.geocode(k).longitude)"
   ]
  },
  {
   "cell_type": "code",
   "execution_count": null,
   "metadata": {},
   "outputs": [],
   "source": [
    "latlong=[0 for i in range(filtered_data3.shape[0])]"
   ]
  },
  {
   "cell_type": "code",
   "execution_count": null,
   "metadata": {},
   "outputs": [],
   "source": [
    "filtered_data3['latitude'] = latlong\n",
    "filtered_data3['longitude'] = latlong"
   ]
  },
  {
   "cell_type": "code",
   "execution_count": null,
   "metadata": {},
   "outputs": [],
   "source": [
    "filtered_data3"
   ]
  },
  {
   "cell_type": "code",
   "execution_count": null,
   "metadata": {
    "code_folding": [],
    "scrolled": true
   },
   "outputs": [],
   "source": [
    "d={}\n",
    "for i in sorted(set(list(filtered_data3.METROREG))):\n",
    "    print(i)\n",
    "    d[i]=get_coord(i)"
   ]
  },
  {
   "cell_type": "code",
   "execution_count": null,
   "metadata": {
    "scrolled": false
   },
   "outputs": [],
   "source": [
    "for i in range(len(list(d.keys()))):\n",
    "    for idx, row in filtered_data3.iterrows():\n",
    "            filtered_data3.loc[idx,'latitude'] = list(d.values())[i][0]\n",
    "            filtered_data3.loc[idx,'longitude'] = list(d.values())[i][1]"
   ]
  },
  {
   "cell_type": "code",
   "execution_count": null,
   "metadata": {
    "scrolled": true
   },
   "outputs": [],
   "source": [
    "d2=dict(filtered_data3['METROREG'].value_counts())"
   ]
  },
  {
   "cell_type": "code",
   "execution_count": null,
   "metadata": {
    "scrolled": true
   },
   "outputs": [],
   "source": [
    "d2"
   ]
  },
  {
   "cell_type": "code",
   "execution_count": null,
   "metadata": {},
   "outputs": [],
   "source": [
    "for i in d2.keys():\n",
    "    if d2[i]<10:\n",
    "        filtered_data3=filtered_data3[filtered_data3.METROREG!=i]"
   ]
  },
  {
   "cell_type": "code",
   "execution_count": null,
   "metadata": {},
   "outputs": [],
   "source": [
    "filtered_data3"
   ]
  }
 ],
 "metadata": {
  "kernelspec": {
   "display_name": "Python 3",
   "language": "python",
   "name": "python3"
  },
  "language_info": {
   "codemirror_mode": {
    "name": "ipython",
    "version": 3
   },
   "file_extension": ".py",
   "mimetype": "text/x-python",
   "name": "python",
   "nbconvert_exporter": "python",
   "pygments_lexer": "ipython3",
   "version": "3.8.2"
  }
 },
 "nbformat": 4,
 "nbformat_minor": 4
}
